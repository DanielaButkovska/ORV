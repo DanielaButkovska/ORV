{
 "cells": [
  {
   "cell_type": "code",
   "execution_count": null,
   "metadata": {},
   "outputs": [],
   "source": [
    "import cv2\n",
    "import numpy as np\n",
    "\n",
    "def my_roberts(slika):\n",
    "    roberts_x = np.array([[1, 0], [0, -1]], dtype=np.float32)\n",
    "    roberts_y = np.array([[0, 1], [-1, 0]], dtype=np.float32)\n",
    "    img_x = cv2.filter2D(slika, -1, roberts_x, borderType=cv2.BORDER_REPLICATE)\n",
    "    img_y = cv2.filter2D(slika, -1, roberts_y, borderType=cv2.BORDER_REPLICATE)\n",
    "    slika_robov = cv2.addWeighted(np.abs(img_x), 0.5, np.abs(img_y), 0.5, 0).astype(np.uint8)\n",
    "    slika_robov = spremeni_kontrast(slika_robov, 10, 10)\n",
    "    return slika_robov\n",
    "\n",
    "def my_prewitt(slika):\n",
    "    x = np.array([[-1, 0, 1], [-1, 0, 1], [-1, 0, 1]], dtype=np.float32)\n",
    "    y = np.array([[-1, -1, -1], [0, 0, 0], [1, 1, 1]], dtype=np.float32)\n",
    "    img_x = cv2.filter2D(slika, -1, x, borderType=cv2.BORDER_REPLICATE)\n",
    "    img_y = cv2.filter2D(slika, -1, y, borderType=cv2.BORDER_REPLICATE)\n",
    "    slika_robov = cv2.addWeighted(np.abs(img_x), 0.5, np.abs(img_y), 0.5, 0).astype(np.uint8)\n",
    "    slika_robov = spremeni_kontrast(slika_robov, 10, 10)\n",
    "    return slika_robov\n",
    "\n",
    "def my_sobel(slika):\n",
    "    sobel_x = np.array([[-1, 0, 1], [-2, 0, 2], [-1, 0, 1]], dtype=np.float32)\n",
    "    sobel_y = np.array([[-1, -2, -1], [0, 0, 0], [1, 2, 1]], dtype=np.float32)\n",
    "    img_x = cv2.filter2D(slika, -1, sobel_x, borderType=cv2.BORDER_REPLICATE)\n",
    "    img_y = cv2.filter2D(slika, -1, sobel_y, borderType=cv2.BORDER_REPLICATE)\n",
    "    slika_robov = cv2.addWeighted(np.abs(img_x), 0.5, np.abs(img_y), 0.5, 0).astype(np.uint8)\n",
    "    slika_robov = spremeni_kontrast(slika_robov, 10, 10)\n",
    "    return slika_robov\n",
    "\n",
    "def canny(slika, sp_prag, zg_prag):\n",
    "    slika_robov = cv2.Canny(slika, sp_prag, zg_prag)\n",
    "    return slika_robov"
   ]
  }
 ],
 "metadata": {
  "language_info": {
   "name": "python"
  },
  "orig_nbformat": 4
 },
 "nbformat": 4,
 "nbformat_minor": 2
}
