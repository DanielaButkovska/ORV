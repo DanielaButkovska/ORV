{
 "cells": [
  {
   "cell_type": "code",
   "execution_count": null,
   "metadata": {},
   "outputs": [],
   "source": [
    "import cv2\n",
    "import numpy as np"
   ]
  },
  {
   "cell_type": "code",
   "execution_count": null,
   "metadata": {},
   "outputs": [],
   "source": [
    "def my_roberts(slika):\n",
    "    roberts_x = np.array([[1, 0], [0, -1]], dtype=np.float32)\n",
    "    roberts_y = np.array([[0, 1], [-1, 0]], dtype=np.float32)\n",
    "    img_x = cv2.filter2D(slika, -1, roberts_x, borderType=cv2.BORDER_REPLICATE)\n",
    "    img_y = cv2.filter2D(slika, -1, roberts_y, borderType=cv2.BORDER_REPLICATE)\n",
    "    \n",
    "    slika_robov = cv2.addWeighted(np.abs(img_x), 0.5, np.abs(img_y), 0.5, 0).astype(np.uint8)\n",
    "    slika_robov = spremeni_kontrast(slika_robov, 10, 10)\n",
    "    \n",
    "    return slika_robov"
   ]
  },
  {
   "cell_type": "code",
   "execution_count": null,
   "metadata": {},
   "outputs": [],
   "source": [
    "def my_prewitt(slika):\n",
    "    x = np.array([[-1, 0, 1], [-1, 0, 1], [-1, 0, 1]], dtype=np.float32)\n",
    "    y = np.array([[-1, -1, -1], [0, 0, 0], [1, 1, 1]], dtype=np.float32)\n",
    "    img_x = cv2.filter2D(slika, -1, x, borderType=cv2.BORDER_REPLICATE)\n",
    "    img_y = cv2.filter2D(slika, -1, y, borderType=cv2.BORDER_REPLICATE)\n",
    "\n",
    "    slika_robov = cv2.addWeighted(np.abs(img_x), 0.5, np.abs(img_y), 0.5, 0).astype(np.uint8)\n",
    "    slika_robov = spremeni_kontrast(slika_robov, 10, 10)\n",
    "\n",
    "    return slika_robov"
   ]
  },
  {
   "cell_type": "code",
   "execution_count": null,
   "metadata": {},
   "outputs": [],
   "source": [
    "def my_sobel(slika):\n",
    "    sobel_x = np.array([[-1, 0, 1], [-2, 0, 2], [-1, 0, 1]], dtype=np.float32)\n",
    "    sobel_y = np.array([[-1, -2, -1], [0, 0, 0], [1, 2, 1]], dtype=np.float32)\n",
    "    img_x = cv2.filter2D(slika, -1, sobel_x, borderType=cv2.BORDER_REPLICATE)\n",
    "    img_y = cv2.filter2D(slika, -1, sobel_y, borderType=cv2.BORDER_REPLICATE)\n",
    "    \n",
    "    slika_robov = cv2.addWeighted(np.abs(img_x), 0.5, np.abs(img_y), 0.5, 0).astype(np.uint8)\n",
    "    slika_robov = spremeni_kontrast(slika_robov, 10, 10)\n",
    "    \n",
    "    return slika_robov"
   ]
  },
  {
   "cell_type": "code",
   "execution_count": null,
   "metadata": {},
   "outputs": [],
   "source": [
    "def canny(slika, sp_prag, zg_prag):\n",
    "    slika_robov = cv2.Canny(slika, sp_prag, zg_prag)\n",
    "\n",
    "    return slika_robov"
   ]
  },
  {
   "cell_type": "code",
   "execution_count": null,
   "metadata": {},
   "outputs": [],
   "source": [
    "def spremeni_kontrast(slika, alfa, beta):\n",
    "    slika_kontrast = np.zeros_like(slika) \n",
    "    slika_kontrast = cv2.convertScaleAbs(slika, alpha=alfa, beta=beta)\n",
    "    \n",
    "    return slika_kontrast"
   ]
  },
  {
   "cell_type": "code",
   "execution_count": null,
   "metadata": {},
   "outputs": [],
   "source": [
    "def main():\n",
    "    original_slika = cv2.imread('slika.png')\n",
    "    siva_slika = cv2.cvtColor(original_slika, cv2.COLOR_BGR2GRAY)\n",
    "\n",
    "    roberts = my_roberts(siva_slika)\n",
    "    prewitt = my_prewitt(siva_slika)\n",
    "    sobel = my_sobel(siva_slika)\n",
    "    canny_ = canny(siva_slika, 100, 200)\n",
    "    kontrast = spremeni_kontrast(siva_slika, 3, 2)\n",
    "\n",
    "    cv2.imshow('Original', original_slika)\n",
    "    cv2.imshow('Roberts', roberts)\n",
    "    cv2.imshow('Prewitt', prewitt)\n",
    "    cv2.imshow('Sobel', sobel)\n",
    "    cv2.imshow('Canny', canny_)\n",
    "    cv2.imshow('Kontrast', kontrast)\n",
    "\n",
    "    robovi = cv2.Sobel(siva_slika, cv2.CV_8U, 1, 0, ksize=3, borderType=cv2.BORDER_REPLICATE)\n",
    "    barva_robov = cv2.cvtColor(robovi, cv2.COLOR_GRAY2BGR)\n",
    "    nova_slika = cv2.addWeighted(original_slika, 0.5, barva_robov, 0.5, 0)\n",
    "    cv2.imshow(\"Robovi originalne slike\", nova_slika)\n",
    "\n",
    "    cv2.waitKey(0)\n",
    "    cv2.destroyAllWindows()\n",
    "\n",
    "\n",
    "main()\n"
   ]
  }
 ],
 "metadata": {
  "language_info": {
   "name": "python"
  },
  "orig_nbformat": 4
 },
 "nbformat": 4,
 "nbformat_minor": 2
}
